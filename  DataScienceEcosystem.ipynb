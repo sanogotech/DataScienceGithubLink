{
 "cells": [
  {
   "cell_type": "markdown",
   "id": "dd938625-7522-4e0d-a4d8-375590cebc3b",
   "metadata": {},
   "source": [
    "# Data Science Tools and Ecosystem"
   ]
  },
  {
   "cell_type": "markdown",
   "id": "a7bc68ea-d55b-47d5-b985-c683fd2c887a",
   "metadata": {},
   "source": [
    "In this notebook, Data Science Tools and Ecosystem are summarized."
   ]
  },
  {
   "cell_type": "markdown",
   "id": "90f831f6-c139-4aac-9c3d-915ecfb00c9f",
   "metadata": {},
   "source": [
    "Some of the popular languages that Data Scientists use are:\n",
    "\n",
    "1. Python\n",
    "2. R\n",
    "3. JAVA"
   ]
  },
  {
   "cell_type": "markdown",
   "id": "a9109904-0452-439f-a3fd-5871b27e4179",
   "metadata": {},
   "source": [
    "Some of the popular languages that Data Scientists use are:\n",
    "\n",
    "1. Numpy\n",
    "2. Pandas\n",
    "3. SciPy\n",
    "4. Matplotlib\n",
    "5. Scikit-learn"
   ]
  },
  {
   "cell_type": "markdown",
   "id": "7eb83e69-660b-4e4e-93b5-abf550bfe826",
   "metadata": {},
   "source": [
    "| Data Science Tools |\r\n",
    "|---|\r\n",
    "| Jupyter Notebook  |\r\n",
    "| RStudio. |\r\n",
    "| Google Colapta |"
   ]
  },
  {
   "cell_type": "markdown",
   "id": "ff43c0cc-644a-41b3-9dc0-ea1676117937",
   "metadata": {},
   "source": [
    "### Below are a few examples of evaluating arithmetic expressions in Python"
   ]
  },
  {
   "cell_type": "code",
   "execution_count": 6,
   "id": "70054e63-bccc-4c79-9143-f1262c3e7539",
   "metadata": {},
   "outputs": [
    {
     "data": {
      "text/plain": [
       "17"
      ]
     },
     "execution_count": 6,
     "metadata": {},
     "output_type": "execute_result"
    }
   ],
   "source": [
    "(3*4)+5"
   ]
  },
  {
   "cell_type": "markdown",
   "id": "f6ba93f0-d154-47b5-9ede-6c754fd8b353",
   "metadata": {},
   "source": [
    "This will convert 200 minutes to hours by diving by 60"
   ]
  },
  {
   "cell_type": "code",
   "execution_count": 7,
   "id": "7a482981-9df6-477f-8535-6fe88c82d25e",
   "metadata": {},
   "outputs": [
    {
     "data": {
      "text/plain": [
       "3.3333333333333335"
      ]
     },
     "execution_count": 7,
     "metadata": {},
     "output_type": "execute_result"
    }
   ],
   "source": [
    "(200/60)"
   ]
  },
  {
   "cell_type": "markdown",
   "id": "4e5d8aec-a5ae-4ccc-a7f5-87b9e8441de4",
   "metadata": {},
   "source": [
    "**Objectives:**\n",
    "\n",
    "- Create a Jupyter Notebook\n",
    "- Insert code and markdown cells\n",
    "- Share your notebook through GitHub"
   ]
  },
  {
   "cell_type": "markdown",
   "id": "b232797e-2c25-4caa-a9aa-96ebca5ebaf2",
   "metadata": {},
   "source": [
    " Author's name : SANOGO  Souleymane"
   ]
  },
  {
   "cell_type": "markdown",
   "id": "26afc185-8371-452e-8539-662e85474226",
   "metadata": {},
   "source": [
    "Github link :   [Data Science Github SANOGO](https://github.com/sanogotech/DataScienceGithubLink)"
   ]
  }
 ],
 "metadata": {
  "kernelspec": {
   "display_name": "Python 3 (ipykernel)",
   "language": "python",
   "name": "python3"
  },
  "language_info": {
   "codemirror_mode": {
    "name": "ipython",
    "version": 3
   },
   "file_extension": ".py",
   "mimetype": "text/x-python",
   "name": "python",
   "nbconvert_exporter": "python",
   "pygments_lexer": "ipython3",
   "version": "3.9.13"
  }
 },
 "nbformat": 4,
 "nbformat_minor": 5
}
